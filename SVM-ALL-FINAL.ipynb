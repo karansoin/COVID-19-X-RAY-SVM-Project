{
 "cells": [
  {
   "cell_type": "markdown",
   "metadata": {},
   "source": [
    "# SVM for COVID X-Ray Detection\n",
    "\n",
    "\n",
    "#### Prepare the data, preprocess it, scale features, reduce dimensions and train using 5-fold Grid Search CV with SVM algorithm\n",
    "\n",
    "- Trained on 2121 unique Xray images (memory limits, Grid Search training time on local machine - 15hrs)\n",
    "\n",
    "- All relevant directories at the same level \n",
    "\n",
    "- CT Scans discarded\n",
    "\n",
    "- Only frontal views trained on (no lateral views)\n",
    "\n",
    "- NULL Labels removed \n",
    "\n",
    "- One of 3 target values: COVID, NORMAL, ABNORMAL BUT NON COVID"
   ]
  },
  {
   "cell_type": "code",
   "execution_count": 1,
   "metadata": {},
   "outputs": [],
   "source": [
    "# Import necessary modules\n",
    "import os\n",
    "\n",
    "import matplotlib as mpl\n",
    "import matplotlib.pyplot as plt\n",
    "from IPython.display import display\n",
    "%matplotlib inline\n",
    "\n",
    "import pandas as pd\n",
    "import numpy as np\n",
    "\n",
    "from PIL import Image\n",
    "\n",
    "from skimage.feature import hog\n",
    "from skimage.color import rgb2grey\n",
    "\n",
    "from sklearn.model_selection import train_test_split\n",
    "from sklearn.metrics import accuracy_score\n",
    "from sklearn.preprocessing import StandardScaler\n",
    "from sklearn.decomposition import PCA\n",
    "from sklearn.svm import SVC\n",
    "\n",
    "from sklearn.metrics import roc_curve, auc\n",
    "import cv2"
   ]
  },
  {
   "cell_type": "markdown",
   "metadata": {},
   "source": [
    "## Read in label file "
   ]
  },
  {
   "cell_type": "code",
   "execution_count": 2,
   "metadata": {},
   "outputs": [],
   "source": [
    "label_df = pd.read_table('labels_covid19_posi.tsv')\n",
    "label_df = label_df.replace({'\\t': ','}, regex=True)"
   ]
  },
  {
   "cell_type": "code",
   "execution_count": 61,
   "metadata": {},
   "outputs": [],
   "source": [
    "#label_df"
   ]
  },
  {
   "cell_type": "markdown",
   "metadata": {},
   "source": [
    "### Create directory to store images"
   ]
  },
  {
   "cell_type": "code",
   "execution_count": 3,
   "metadata": {},
   "outputs": [],
   "source": [
    "# import os \n",
    "# os.mkdir('data')"
   ]
  },
  {
   "cell_type": "markdown",
   "metadata": {},
   "source": [
    "### Generate labels for ALL studies and drop NULL "
   ]
  },
  {
   "cell_type": "code",
   "execution_count": 5,
   "metadata": {},
   "outputs": [],
   "source": [
    "test_sample = []\n",
    "V1_dirs = os.listdir('V1')\n",
    "studies = [study for study in V1_dirs if \"subjects\" in study]\n",
    "for study in studies:\n",
    "    subs = os.listdir('V1/'+study)  \n",
    "    test_sample = test_sample + subs"
   ]
  },
  {
   "cell_type": "code",
   "execution_count": 6,
   "metadata": {},
   "outputs": [
    {
     "name": "stderr",
     "output_type": "stream",
     "text": [
      "<ipython-input-6-84541d6119f9>:2: SettingWithCopyWarning: \n",
      "A value is trying to be set on a copy of a slice from a DataFrame\n",
      "\n",
      "See the caveats in the documentation: https://pandas.pydata.org/pandas-docs/stable/user_guide/indexing.html#returning-a-view-versus-a-copy\n",
      "  label_test.dropna(subset=['Labels'], inplace=True)\n"
     ]
    }
   ],
   "source": [
    "label_test = label_df[label_df['PatientID'].isin(test_sample)]\n",
    "label_test.dropna(subset=['Labels'], inplace=True)\n",
    "# Reset index since nulls removed\n",
    "label_test.reset_index(inplace=True)\n",
    "label_test = label_test.drop(['index', 'Unnamed: 0'], axis=1)"
   ]
  },
  {
   "cell_type": "code",
   "execution_count": 7,
   "metadata": {},
   "outputs": [
    {
     "data": {
      "text/plain": [
       "(1673, 8)"
      ]
     },
     "execution_count": 7,
     "metadata": {},
     "output_type": "execute_result"
    }
   ],
   "source": [
    "#Check shape \n",
    "\n",
    "label_test.shape"
   ]
  },
  {
   "cell_type": "markdown",
   "metadata": {},
   "source": [
    "### Create main dataset that maps image ID to appropriate label"
   ]
  },
  {
   "cell_type": "markdown",
   "metadata": {},
   "source": [
    "#### Label Creation\n",
    "- If Labels contains COVID 19, assign COVID\n",
    "- If labels contains normal, assign normal \n",
    "- Otherwise, abnormal but non-COVID"
   ]
  },
  {
   "cell_type": "code",
   "execution_count": 65,
   "metadata": {},
   "outputs": [],
   "source": [
    "#label_df"
   ]
  },
  {
   "cell_type": "code",
   "execution_count": 8,
   "metadata": {},
   "outputs": [],
   "source": [
    "# Initialize label as empty string\n",
    "label_test['Label'] = ''"
   ]
  },
  {
   "cell_type": "code",
   "execution_count": 9,
   "metadata": {},
   "outputs": [],
   "source": [
    "# Iterate over dataset to populate label column\n",
    "# Manipulate string entry as list to find whether a required label exists \n",
    "for i in range(len(label_test)):\n",
    "    conditions_spaced = label_test['Labels'][i].replace(\"'\", \"\").strip('][').split(', ')\n",
    "    conditions = [x.strip(' ') for x in conditions_spaced]\n",
    "    if 'COVID 19' in conditions:\n",
    "        label_test['Label'][i] = \"COVID\"\n",
    "    elif 'normal' in conditions:\n",
    "        label_test['Label'][i] = \"NORMAL\"\n",
    "    else:\n",
    "        label_test['Label'][i] = \"ABNORMALNONCOVID\""
   ]
  },
  {
   "cell_type": "markdown",
   "metadata": {},
   "source": [
    "### Go to Directory and find image file name\n",
    "- Use 'os' to navigate to directory from patient ID and report ID columns "
   ]
  },
  {
   "cell_type": "code",
   "execution_count": 10,
   "metadata": {},
   "outputs": [],
   "source": [
    "# Create Image ID column\n",
    "label_test['ImageID'] = ''"
   ]
  },
  {
   "cell_type": "code",
   "execution_count": 11,
   "metadata": {},
   "outputs": [],
   "source": [
    "# Here's how a single image ID is located and extracted\n",
    "\n",
    "# Define main directory where image sub-folders can be found\n",
    "main_dir = \"V1\"\n",
    "img_sub = \"mod-rx\""
   ]
  },
  {
   "cell_type": "markdown",
   "metadata": {},
   "source": [
    "### Populate label column\n",
    "\n",
    "- Explore the directory corresponding to patient ID and report ID, discard CT scans (no png files will be found) and replicate details if multiple acquisitions are found "
   ]
  },
  {
   "cell_type": "code",
   "execution_count": 12,
   "metadata": {},
   "outputs": [
    {
     "name": "stdout",
     "output_type": "stream",
     "text": [
      "CPU times: user 734 ms, sys: 283 ms, total: 1.02 s\n",
      "Wall time: 1.54 s\n"
     ]
    }
   ],
   "source": [
    "%%time\n",
    "# Iterate over dataset to populate label column \n",
    "new_rows = []\n",
    "\n",
    "# Make subset of data for each study, then use the index of this subset dataframe to populate larger one\n",
    "for study in studies:\n",
    "    subs = os.listdir(main_dir + \"/\" + study)\n",
    "    subset_data = label_test[label_test['PatientID'].isin(subs)]\n",
    "\n",
    "    for i in subset_data.index:\n",
    "        files = os.listdir(main_dir + \"/\" + study + \"/\" + label_test['PatientID'][i] + \"/\" + label_test['ReportID'][i] + \"/\" + img_sub)\n",
    "        # Make sure to remove lateral images\n",
    "        li = [x for x in files if \".png\" in x and \"lateral\" not in x]\n",
    "\n",
    "        if len(li) >= 1:\n",
    "            label_test['ImageID'][i] = li[0]\n",
    "            # Case for multiple acquisitions, just replicate the row values and change image ID\n",
    "            if len(li) > 1: \n",
    "                for j in range(1, len(li)):\n",
    "                    row_list = [x for x in label_test.loc[i, :].values.tolist()[:-1]] + [li[j]]\n",
    "                    new_rows.append(row_list)\n",
    "        elif len(li) == 0:\n",
    "            label_test['ImageID'][i] = \"\""
   ]
  },
  {
   "cell_type": "code",
   "execution_count": 13,
   "metadata": {},
   "outputs": [],
   "source": [
    "# Make df with additional rows\n",
    "df_new_rows = pd.DataFrame(new_rows, columns = label_test.columns)"
   ]
  },
  {
   "cell_type": "code",
   "execution_count": 14,
   "metadata": {},
   "outputs": [],
   "source": [
    "# Make final df\n",
    "final_df = pd.concat([label_test, df_new_rows])\n",
    "final_df = final_df.reset_index()"
   ]
  },
  {
   "cell_type": "code",
   "execution_count": 15,
   "metadata": {},
   "outputs": [],
   "source": [
    "# Image IDs as empty string are CT scan patients - discard these\n",
    "final_df = final_df[final_df['ImageID'] != \"\"]"
   ]
  },
  {
   "cell_type": "code",
   "execution_count": 16,
   "metadata": {},
   "outputs": [
    {
     "name": "stdout",
     "output_type": "stream",
     "text": [
      "Unique Image IDs:  2121\n"
     ]
    }
   ],
   "source": [
    "# Check unique values for ImageID\n",
    "print(\"Unique Image IDs: \", len(final_df['ImageID'].unique()))"
   ]
  },
  {
   "cell_type": "code",
   "execution_count": 17,
   "metadata": {},
   "outputs": [],
   "source": [
    "# Check for and drop duplicates\n",
    "ids = final_df[\"ImageID\"]\n",
    "final_df[ids.isin(ids[ids.duplicated()])]\n",
    "# Now drop duplicates\n",
    "final_df = final_df.drop_duplicates(subset=['ImageID'])\n",
    "final_df = final_df.reset_index()"
   ]
  },
  {
   "cell_type": "code",
   "execution_count": 18,
   "metadata": {},
   "outputs": [
    {
     "name": "stdout",
     "output_type": "stream",
     "text": [
      "Unique Image IDs:  2121\n"
     ]
    }
   ],
   "source": [
    "print(\"Unique Image IDs: \", len(final_df['ImageID'].unique()))"
   ]
  },
  {
   "cell_type": "markdown",
   "metadata": {},
   "source": [
    "### Port images to main data directory"
   ]
  },
  {
   "cell_type": "code",
   "execution_count": 35,
   "metadata": {},
   "outputs": [],
   "source": [
    "import shutil\n",
    "\n",
    "# Iterate over dataset to port images into data directory\n",
    "new_rows = []\n",
    "\n",
    "for study in studies:\n",
    "    subs = os.listdir(main_dir + \"/\" + study)\n",
    "    subset_data = label_test[label_test['PatientID'].isin(subs)]\n",
    "\n",
    "\n",
    "    for i in subset_data.index:\n",
    "        base = main_dir + \"/\" + study + \"/\" + subset_data['PatientID'][i] + \"/\" + subset_data['ReportID'][i] + \"/\" + img_sub\n",
    "        files = os.listdir(base)\n",
    "        li = [x for x in files if \".png\" in x]\n",
    "\n",
    "        for image in li:\n",
    "            shutil.copy(base + \"/\" + image, \"data\")"
   ]
  },
  {
   "cell_type": "code",
   "execution_count": 19,
   "metadata": {},
   "outputs": [
    {
     "data": {
      "text/plain": [
       "2321"
      ]
     },
     "execution_count": 19,
     "metadata": {},
     "output_type": "execute_result"
    }
   ],
   "source": [
    "# Check number of images copied \n",
    "len(os.listdir(\"data\"))"
   ]
  },
  {
   "cell_type": "code",
   "execution_count": 20,
   "metadata": {},
   "outputs": [],
   "source": [
    "# Prepare dataset to be used for the experiment \n",
    "experiment_data = final_df[[\"PatientID\", \"ReportID\", \"ImageID\", \"Label\"]]"
   ]
  },
  {
   "cell_type": "code",
   "execution_count": 22,
   "metadata": {},
   "outputs": [
    {
     "name": "stdout",
     "output_type": "stream",
     "text": [
      "<class 'pandas.core.frame.DataFrame'>\n",
      "RangeIndex: 2121 entries, 0 to 2120\n",
      "Data columns (total 4 columns):\n",
      " #   Column     Non-Null Count  Dtype \n",
      "---  ------     --------------  ----- \n",
      " 0   PatientID  2121 non-null   object\n",
      " 1   ReportID   2121 non-null   object\n",
      " 2   ImageID    2121 non-null   object\n",
      " 3   Label      2121 non-null   object\n",
      "dtypes: object(4)\n",
      "memory usage: 66.4+ KB\n"
     ]
    }
   ],
   "source": [
    "# Inspect dataset to be used for the experiment\n",
    "experiment_data.info()"
   ]
  },
  {
   "cell_type": "markdown",
   "metadata": {},
   "source": [
    "## Image processing"
   ]
  },
  {
   "cell_type": "markdown",
   "metadata": {},
   "source": [
    "### Image manipulation with rgb2grey\n",
    "Image data is represented as a matrix, where the depth is the number of channels. An RGB image has three channels (red, green, and blue) whereas the returned greyscale image has only one channel. "
   ]
  },
  {
   "cell_type": "code",
   "execution_count": 29,
   "metadata": {},
   "outputs": [],
   "source": [
    "# View sample image and manipulate to grayscale\n",
    "file_path = 'bimcv_covid19_posi_subjects_2/sub-S03086/ses-E06421/mod-rx/sub-S03086_ses-E06421_run-1_bp-chest_vp-ap_dx.png'"
   ]
  },
  {
   "cell_type": "code",
   "execution_count": 30,
   "metadata": {},
   "outputs": [],
   "source": [
    "image = Image.open(file_path)\n",
    "\n",
    "img = image.resize((3000, 3000))\n",
    "\n",
    "xray_test = np.array(img)"
   ]
  },
  {
   "cell_type": "code",
   "execution_count": 31,
   "metadata": {},
   "outputs": [
    {
     "data": {
      "image/png": "[encoded data removed]",
      "text/plain": [
       "<Figure size 432x288 with 1 Axes>"
      ]
     },
     "metadata": {
      "needs_background": "light"
     },
     "output_type": "display_data"
    }
   ],
   "source": [
    "plt.imshow(xray_test)\n",
    "plt.show()"
   ]
  },
  {
   "cell_type": "markdown",
   "metadata": {},
   "source": [
    "#### Test OpenCV Equalize Histogram Method for Preprocessing\n",
    "\n",
    "- Histogram Equalization is a computer image processing technique used to improve contrast in images. \n",
    "- It accomplishes this by effectively spreading out the most frequent intensity values, i.e. stretching out the intensity range of the image. \n",
    "- This method usually increases the global contrast of images when its usable data is represented by close contrast values. This allows for areas of lower local contrast to gain a higher contrast."
   ]
  },
  {
   "cell_type": "code",
   "execution_count": 95,
   "metadata": {},
   "outputs": [
    {
     "name": "stdout",
     "output_type": "stream",
     "text": [
      "[211 211 184 ...  37  37   0]\n"
     ]
    },
    {
     "data": {
      "image/png": "[encoded data removed]",
      "text/plain": [
       "<Figure size 432x288 with 1 Axes>"
      ]
     },
     "metadata": {
      "needs_background": "light"
     },
     "output_type": "display_data"
    }
   ],
   "source": [
    "for file in os.listdir('data'):\n",
    "    img_array = cv2.imread(\"data/\"+file, cv2.IMREAD_GRAYSCALE)\n",
    "    new_array = cv2.resize(img_array, (1000, 1000))\n",
    "    equ = cv2.equalizeHist(new_array)\n",
    "    print(equ.flatten())\n",
    "    plt.imshow(equ, cmap=\"gray\")\n",
    "    plt.show()\n",
    "    break"
   ]
  },
  {
   "cell_type": "markdown",
   "metadata": {},
   "source": [
    "### Histogram of oriented gradients\n",
    "\n",
    "HOG, or Histogram of Oriented Gradients, is a feature descriptor that is often used to extract features from image data. \n",
    "\n",
    "Crucial Aspects of HOG: \n",
    "\n",
    "- The HOG descriptor focuses on the structure or the shape of an object. In the case of edge features, we only identify if the pixel is an edge or not. HOG is able to provide the edge direction as well. This is done by extracting the magnitude and direction of the edges. \n",
    "\n",
    "- Additionally, these orientations are calculated in ‘localized’ portions. This means that the complete image is broken down into smaller regions and for each region, the gradients and orientation are calculated. \n",
    "\n",
    "- Finally the HOG would generate a Histogram for each of these regions separately. The histograms are created using the gradients and orientations of the pixel values, hence the name ‘Histogram of Oriented Gradients’\n",
    "\n",
    "Source: https://www.analyticsvidhya.com/blog/2019/09/feature-engineering-images-introduction-hog-feature-descriptor/"
   ]
  },
  {
   "cell_type": "code",
   "execution_count": 114,
   "metadata": {},
   "outputs": [
    {
     "data": {
      "text/plain": [
       "<matplotlib.image.AxesImage at 0x12bb9a610>"
      ]
     },
     "execution_count": 114,
     "metadata": {},
     "output_type": "execute_result"
    },
    {
     "data": {
      "image/png": "[encoded data removed]",
      "text/plain": [
       "<Figure size 432x288 with 1 Axes>"
      ]
     },
     "metadata": {
      "needs_background": "light"
     },
     "output_type": "display_data"
    }
   ],
   "source": [
    "# run HOG using our greyscale bombus image\n",
    "hog_features, hog_image = hog(grey_xray,\n",
    "                              visualize=True,\n",
    "                              block_norm='L2-Hys',\n",
    "                              pixels_per_cell=(16, 16))\n",
    "\n",
    "plt.imshow(hog_image, cmap=mpl.cm.gray)"
   ]
  },
  {
   "cell_type": "markdown",
   "metadata": {},
   "source": [
    "### Generate Image Features\n",
    "- Create image features and flatten into 1D array \n",
    "- Test with sample image above"
   ]
  },
  {
   "cell_type": "code",
   "execution_count": 41,
   "metadata": {},
   "outputs": [],
   "source": [
    "def crop_center(img,cropx,cropy):\n",
    "    y,x = img.shape\n",
    "    startx = x//2-(cropx//2)\n",
    "    starty = y//2-(cropy//2)    \n",
    "    return img[starty:starty+cropy,startx:startx+cropx]"
   ]
  },
  {
   "cell_type": "code",
   "execution_count": 61,
   "metadata": {},
   "outputs": [
    {
     "name": "stdout",
     "output_type": "stream",
     "text": [
      "[188 186 185 ...  86  86  86]\n"
     ]
    }
   ],
   "source": [
    "# def create_features(img):\n",
    "#     # flatten three channel color image\n",
    "#     color_features = img.flatten()\n",
    "#     # convert to greyscale\n",
    "#     grey_image = rgb2grey(img)\n",
    "#     # get HOG features from greyscale image\n",
    "#     #hog_features = hog(grey_image, block_norm='L2-Hys', pixels_per_cell=(16, 16))\n",
    "#     # combine color and hog features into a single array\n",
    "#     #flat_features = np.hstack(grey_image)\n",
    "#     flat_features = np.hstack(grey_image)\n",
    "#     return flat_features\n",
    "\n",
    "# sample_features = create_features(xray_test)\n",
    "\n",
    "# print(sample_features)"
   ]
  },
  {
   "cell_type": "code",
   "execution_count": 23,
   "metadata": {},
   "outputs": [],
   "source": [
    "def create_features(img):\n",
    "    flat_features = img.flatten()\n",
    "    return flat_features\n",
    "\n",
    "#sample_features = create_features(xray_test)\n",
    "\n",
    "#print(sample_features)"
   ]
  },
  {
   "cell_type": "markdown",
   "metadata": {},
   "source": [
    "### Process all images"
   ]
  },
  {
   "cell_type": "code",
   "execution_count": 96,
   "metadata": {},
   "outputs": [
    {
     "data": {
      "text/plain": [
       "ABNORMALNONCOVID    1138\n",
       "COVID                721\n",
       "NORMAL               262\n",
       "Name: Label, dtype: int64"
      ]
     },
     "execution_count": 96,
     "metadata": {},
     "output_type": "execute_result"
    }
   ],
   "source": [
    "# Check distribution of value counts\n",
    "experiment_data.Label.value_counts()"
   ]
  },
  {
   "cell_type": "code",
   "execution_count": 97,
   "metadata": {},
   "outputs": [],
   "source": [
    "#Function to get image and return image as an array \n",
    "\n",
    "def get_image(row_id, root=\"data/\"):\n",
    "    \"\"\"\n",
    "    Converts an image number into the file path where the image is located, \n",
    "    opens the image, and returns the image as a numpy array.\n",
    "    \"\"\"\n",
    "    filename = row_id\n",
    "    file_path = os.path.join(root, filename)\n",
    "    img_array = cv2.imread(file_path, cv2.IMREAD_GRAYSCALE)\n",
    "    new_array = cv2.resize(img_array, (500, 500))\n",
    "    equ = cv2.equalizeHist(new_array)\n",
    "    return equ"
   ]
  },
  {
   "cell_type": "code",
   "execution_count": 50,
   "metadata": {},
   "outputs": [
    {
     "name": "stdout",
     "output_type": "stream",
     "text": [
      "CPU times: user 4min 51s, sys: 22.7 s, total: 5min 14s\n",
      "Wall time: 6min 27s\n"
     ]
    }
   ],
   "source": [
    "%%time\n",
    "#Function to create feature matrix \n",
    "\n",
    "def create_feature_matrix(label_dataframe):\n",
    "    features_list = []\n",
    "    \n",
    "    for img_id in label_dataframe.ImageID:\n",
    "        # load image\n",
    "        img = get_image(img_id, root=\"data/\")\n",
    "        # get features for image\n",
    "        image_features = create_features(img)\n",
    "        features_list.append(image_features)\n",
    "        \n",
    "    # convert list of arrays into a matrix\n",
    "    feature_matrix = np.array(features_list)\n",
    "    return feature_matrix\n",
    "\n",
    "# run create_feature_matrix on our dataframe of images\n",
    "feature_matrix = create_feature_matrix(experiment_data)"
   ]
  },
  {
   "cell_type": "code",
   "execution_count": 98,
   "metadata": {},
   "outputs": [
    {
     "data": {
      "text/plain": [
       "array([[  0,   0,   0, ...,  37,  25,  15],\n",
       "       [  0,   0,   0, ..., 153, 153, 153],\n",
       "       [  0,   0,   0, ...,   0,   0,   0],\n",
       "       ...,\n",
       "       [ 88,  88,  88, ...,   0,   0,   0],\n",
       "       [245, 246, 245, ..., 152, 158, 171],\n",
       "       [ 14,  14,  14, ...,   3,   3,   7]], dtype=uint8)"
      ]
     },
     "execution_count": 98,
     "metadata": {},
     "output_type": "execute_result"
    }
   ],
   "source": [
    "feature_matrix"
   ]
  },
  {
   "cell_type": "markdown",
   "metadata": {},
   "source": [
    "### Feature scaling and Dimensionality Reduction \n",
    "- Must reduce the number of features\n",
    "- Transform the data using PCA: A linear transformation such that most of the information in the data is contained within a smaller number of features called components."
   ]
  },
  {
   "cell_type": "code",
   "execution_count": 53,
   "metadata": {},
   "outputs": [
    {
     "name": "stdout",
     "output_type": "stream",
     "text": [
      "Feature matrix shape is:  (2121, 250000)\n",
      "PCA matrix shape is:  (2121, 250000)\n",
      "CPU times: user 43.4 s, sys: 1min 47s, total: 2min 31s\n",
      "Wall time: 5min 19s\n"
     ]
    }
   ],
   "source": [
    "%%time\n",
    "# get shape of feature matrix\n",
    "print('Feature matrix shape is: ', feature_matrix.shape)\n",
    "\n",
    "# Standard scaler - Need to figure out how best to make feature vector lengths uniform \n",
    "ss = StandardScaler()\n",
    "# run this on our feature matrix\n",
    "data_scaled = ss.fit_transform(feature_matrix)\n",
    "\n",
    "# use fit_transform to run PCA on our standardized matrix\n",
    "pca = PCA(n_components=1000)\n",
    "data_pca = ss.fit_transform(data_scaled)\n",
    "\n",
    "# look at new shape\n",
    "print('PCA matrix shape is: ', data_pca.shape)"
   ]
  },
  {
   "cell_type": "markdown",
   "metadata": {},
   "source": [
    "### Split the data into training and testing components"
   ]
  },
  {
   "cell_type": "code",
   "execution_count": 55,
   "metadata": {},
   "outputs": [
    {
     "data": {
      "text/plain": [
       "ABNORMALNONCOVID    810\n",
       "COVID               493\n",
       "NORMAL              181\n",
       "dtype: int64"
      ]
     },
     "execution_count": 55,
     "metadata": {},
     "output_type": "execute_result"
    }
   ],
   "source": [
    "# Split into training and test \n",
    "X = pd.DataFrame(data_pca)\n",
    "y = pd.Series(experiment_data.Label.values)\n",
    "X_train, X_test, y_train, y_test = train_test_split(X,\n",
    "                                                    y,\n",
    "                                                    test_size=.3,\n",
    "                                                    random_state=1234123)\n",
    " \n",
    "# look at the distrubution of labels in the train set\n",
    "pd.Series(y_train).value_counts()"
   ]
  },
  {
   "cell_type": "markdown",
   "metadata": {},
   "source": [
    "### Train the model with grid search "
   ]
  },
  {
   "cell_type": "code",
   "execution_count": 56,
   "metadata": {},
   "outputs": [],
   "source": [
    "import pandas as pd \n",
    "import numpy as np \n",
    "from sklearn.metrics import classification_report, confusion_matrix \n",
    "from sklearn.datasets import load_breast_cancer \n",
    "from sklearn.svm import SVC "
   ]
  },
  {
   "cell_type": "code",
   "execution_count": 57,
   "metadata": {},
   "outputs": [
    {
     "name": "stdout",
     "output_type": "stream",
     "text": [
      "Fitting 5 folds for each of 16 candidates, totalling 80 fits\n",
      "[CV] C=0.1, gamma=1, kernel=rbf ......................................\n"
     ]
    },
    {
     "name": "stderr",
     "output_type": "stream",
     "text": [
      "[Parallel(n_jobs=1)]: Using backend SequentialBackend with 1 concurrent workers.\n"
     ]
    },
    {
     "name": "stdout",
     "output_type": "stream",
     "text": [
      "[CV] .......... C=0.1, gamma=1, kernel=rbf, score=0.545, total=13.5min\n"
     ]
    },
    {
     "name": "stderr",
     "output_type": "stream",
     "text": [
      "[Parallel(n_jobs=1)]: Done   1 out of   1 | elapsed: 13.5min remaining:    0.0s\n"
     ]
    },
    {
     "name": "stdout",
     "output_type": "stream",
     "text": [
      "[CV] C=0.1, gamma=1, kernel=rbf ......................................\n",
      "[CV] .......... C=0.1, gamma=1, kernel=rbf, score=0.545, total=15.4min\n"
     ]
    },
    {
     "name": "stderr",
     "output_type": "stream",
     "text": [
      "[Parallel(n_jobs=1)]: Done   2 out of   2 | elapsed: 28.9min remaining:    0.0s\n"
     ]
    },
    {
     "name": "stdout",
     "output_type": "stream",
     "text": [
      "[CV] C=0.1, gamma=1, kernel=rbf ......................................\n",
      "[CV] .......... C=0.1, gamma=1, kernel=rbf, score=0.545, total=15.0min\n",
      "[CV] C=0.1, gamma=1, kernel=rbf ......................................\n",
      "[CV] .......... C=0.1, gamma=1, kernel=rbf, score=0.545, total=14.5min\n",
      "[CV] C=0.1, gamma=1, kernel=rbf ......................................\n",
      "[CV] .......... C=0.1, gamma=1, kernel=rbf, score=0.547, total=10.7min\n",
      "[CV] C=0.1, gamma=1, kernel=linear ...................................\n",
      "[CV] ....... C=0.1, gamma=1, kernel=linear, score=0.569, total=14.0min\n",
      "[CV] C=0.1, gamma=1, kernel=linear ...................................\n",
      "[CV] ....... C=0.1, gamma=1, kernel=linear, score=0.569, total=16.1min\n",
      "[CV] C=0.1, gamma=1, kernel=linear ...................................\n",
      "[CV] ....... C=0.1, gamma=1, kernel=linear, score=0.535, total=11.1min\n",
      "[CV] C=0.1, gamma=1, kernel=linear ...................................\n",
      "[CV] ....... C=0.1, gamma=1, kernel=linear, score=0.559, total=13.2min\n",
      "[CV] C=0.1, gamma=1, kernel=linear ...................................\n",
      "[CV] ....... C=0.1, gamma=1, kernel=linear, score=0.537, total=11.2min\n",
      "[CV] C=0.1, gamma=0.1, kernel=rbf ....................................\n",
      "[CV] ........ C=0.1, gamma=0.1, kernel=rbf, score=0.545, total=11.1min\n",
      "[CV] C=0.1, gamma=0.1, kernel=rbf ....................................\n",
      "[CV] ........ C=0.1, gamma=0.1, kernel=rbf, score=0.545, total=10.8min\n",
      "[CV] C=0.1, gamma=0.1, kernel=rbf ....................................\n",
      "[CV] ........ C=0.1, gamma=0.1, kernel=rbf, score=0.545, total=10.7min\n",
      "[CV] C=0.1, gamma=0.1, kernel=rbf ....................................\n",
      "[CV] ........ C=0.1, gamma=0.1, kernel=rbf, score=0.545, total=10.8min\n",
      "[CV] C=0.1, gamma=0.1, kernel=rbf ....................................\n",
      "[CV] ........ C=0.1, gamma=0.1, kernel=rbf, score=0.547, total=10.7min\n",
      "[CV] C=0.1, gamma=0.1, kernel=linear .................................\n",
      "[CV] ..... C=0.1, gamma=0.1, kernel=linear, score=0.569, total=10.3min\n",
      "[CV] C=0.1, gamma=0.1, kernel=linear .................................\n",
      "[CV] ..... C=0.1, gamma=0.1, kernel=linear, score=0.569, total=10.4min\n",
      "[CV] C=0.1, gamma=0.1, kernel=linear .................................\n",
      "[CV] ..... C=0.1, gamma=0.1, kernel=linear, score=0.535, total=10.5min\n",
      "[CV] C=0.1, gamma=0.1, kernel=linear .................................\n",
      "[CV] ..... C=0.1, gamma=0.1, kernel=linear, score=0.559, total=10.1min\n",
      "[CV] C=0.1, gamma=0.1, kernel=linear .................................\n",
      "[CV] ..... C=0.1, gamma=0.1, kernel=linear, score=0.537, total=10.1min\n",
      "[CV] C=0.1, gamma=0.01, kernel=rbf ...................................\n",
      "[CV] ....... C=0.1, gamma=0.01, kernel=rbf, score=0.545, total=10.5min\n",
      "[CV] C=0.1, gamma=0.01, kernel=rbf ...................................\n",
      "[CV] ....... C=0.1, gamma=0.01, kernel=rbf, score=0.545, total=10.7min\n",
      "[CV] C=0.1, gamma=0.01, kernel=rbf ...................................\n",
      "[CV] ....... C=0.1, gamma=0.01, kernel=rbf, score=0.545, total=10.9min\n",
      "[CV] C=0.1, gamma=0.01, kernel=rbf ...................................\n",
      "[CV] ....... C=0.1, gamma=0.01, kernel=rbf, score=0.545, total=10.6min\n",
      "[CV] C=0.1, gamma=0.01, kernel=rbf ...................................\n",
      "[CV] ....... C=0.1, gamma=0.01, kernel=rbf, score=0.547, total=10.6min\n",
      "[CV] C=0.1, gamma=0.01, kernel=linear ................................\n",
      "[CV] .... C=0.1, gamma=0.01, kernel=linear, score=0.569, total=10.2min\n",
      "[CV] C=0.1, gamma=0.01, kernel=linear ................................\n",
      "[CV] .... C=0.1, gamma=0.01, kernel=linear, score=0.569, total=10.1min\n",
      "[CV] C=0.1, gamma=0.01, kernel=linear ................................\n",
      "[CV] .... C=0.1, gamma=0.01, kernel=linear, score=0.535, total=10.0min\n",
      "[CV] C=0.1, gamma=0.01, kernel=linear ................................\n",
      "[CV] .... C=0.1, gamma=0.01, kernel=linear, score=0.559, total=10.4min\n",
      "[CV] C=0.1, gamma=0.01, kernel=linear ................................\n",
      "[CV] .... C=0.1, gamma=0.01, kernel=linear, score=0.537, total=10.1min\n",
      "[CV] C=0.1, gamma=0.001, kernel=rbf ..................................\n",
      "[CV] ...... C=0.1, gamma=0.001, kernel=rbf, score=0.545, total=10.6min\n",
      "[CV] C=0.1, gamma=0.001, kernel=rbf ..................................\n",
      "[CV] ...... C=0.1, gamma=0.001, kernel=rbf, score=0.545, total=10.9min\n",
      "[CV] C=0.1, gamma=0.001, kernel=rbf ..................................\n",
      "[CV] ...... C=0.1, gamma=0.001, kernel=rbf, score=0.545, total=11.2min\n",
      "[CV] C=0.1, gamma=0.001, kernel=rbf ..................................\n",
      "[CV] ...... C=0.1, gamma=0.001, kernel=rbf, score=0.545, total=12.6min\n",
      "[CV] C=0.1, gamma=0.001, kernel=rbf ..................................\n",
      "[CV] ...... C=0.1, gamma=0.001, kernel=rbf, score=0.547, total=14.7min\n",
      "[CV] C=0.1, gamma=0.001, kernel=linear ...............................\n",
      "[CV] ... C=0.1, gamma=0.001, kernel=linear, score=0.569, total=13.7min\n",
      "[CV] C=0.1, gamma=0.001, kernel=linear ...............................\n",
      "[CV] ... C=0.1, gamma=0.001, kernel=linear, score=0.569, total=13.2min\n",
      "[CV] C=0.1, gamma=0.001, kernel=linear ...............................\n",
      "[CV] ... C=0.1, gamma=0.001, kernel=linear, score=0.535, total=13.1min\n",
      "[CV] C=0.1, gamma=0.001, kernel=linear ...............................\n",
      "[CV] ... C=0.1, gamma=0.001, kernel=linear, score=0.559, total=12.6min\n",
      "[CV] C=0.1, gamma=0.001, kernel=linear ...............................\n",
      "[CV] ... C=0.1, gamma=0.001, kernel=linear, score=0.537, total=11.6min\n",
      "[CV] C=1, gamma=1, kernel=rbf ........................................\n",
      "[CV] ............ C=1, gamma=1, kernel=rbf, score=0.569, total=12.1min\n",
      "[CV] C=1, gamma=1, kernel=rbf ........................................\n",
      "[CV] ............ C=1, gamma=1, kernel=rbf, score=0.559, total=15.1min\n",
      "[CV] C=1, gamma=1, kernel=rbf ........................................\n",
      "[CV] ............ C=1, gamma=1, kernel=rbf, score=0.556, total=12.1min\n",
      "[CV] C=1, gamma=1, kernel=rbf ........................................\n",
      "[CV] ............ C=1, gamma=1, kernel=rbf, score=0.569, total=12.5min\n",
      "[CV] C=1, gamma=1, kernel=rbf ........................................\n",
      "[CV] ............ C=1, gamma=1, kernel=rbf, score=0.564, total=17.5min\n",
      "[CV] C=1, gamma=1, kernel=linear .....................................\n",
      "[CV] ......... C=1, gamma=1, kernel=linear, score=0.569, total=13.8min\n",
      "[CV] C=1, gamma=1, kernel=linear .....................................\n",
      "[CV] ......... C=1, gamma=1, kernel=linear, score=0.569, total=18.9min\n",
      "[CV] C=1, gamma=1, kernel=linear .....................................\n",
      "[CV] ......... C=1, gamma=1, kernel=linear, score=0.535, total=16.4min\n",
      "[CV] C=1, gamma=1, kernel=linear .....................................\n",
      "[CV] ......... C=1, gamma=1, kernel=linear, score=0.559, total=12.5min\n",
      "[CV] C=1, gamma=1, kernel=linear .....................................\n",
      "[CV] ......... C=1, gamma=1, kernel=linear, score=0.537, total=12.1min\n",
      "[CV] C=1, gamma=0.1, kernel=rbf ......................................\n",
      "[CV] .......... C=1, gamma=0.1, kernel=rbf, score=0.569, total=13.1min\n",
      "[CV] C=1, gamma=0.1, kernel=rbf ......................................\n",
      "[CV] .......... C=1, gamma=0.1, kernel=rbf, score=0.559, total=13.8min\n",
      "[CV] C=1, gamma=0.1, kernel=rbf ......................................\n",
      "[CV] .......... C=1, gamma=0.1, kernel=rbf, score=0.556, total=14.6min\n",
      "[CV] C=1, gamma=0.1, kernel=rbf ......................................\n",
      "[CV] .......... C=1, gamma=0.1, kernel=rbf, score=0.569, total=12.6min\n",
      "[CV] C=1, gamma=0.1, kernel=rbf ......................................\n",
      "[CV] .......... C=1, gamma=0.1, kernel=rbf, score=0.564, total=12.2min\n",
      "[CV] C=1, gamma=0.1, kernel=linear ...................................\n",
      "[CV] ....... C=1, gamma=0.1, kernel=linear, score=0.569, total=12.2min\n",
      "[CV] C=1, gamma=0.1, kernel=linear ...................................\n",
      "[CV] ....... C=1, gamma=0.1, kernel=linear, score=0.569, total=11.3min\n",
      "[CV] C=1, gamma=0.1, kernel=linear ...................................\n",
      "[CV] ....... C=1, gamma=0.1, kernel=linear, score=0.535, total=10.1min\n",
      "[CV] C=1, gamma=0.1, kernel=linear ...................................\n",
      "[CV] ....... C=1, gamma=0.1, kernel=linear, score=0.559, total=10.2min\n",
      "[CV] C=1, gamma=0.1, kernel=linear ...................................\n",
      "[CV] ....... C=1, gamma=0.1, kernel=linear, score=0.537, total=10.1min\n",
      "[CV] C=1, gamma=0.01, kernel=rbf .....................................\n",
      "[CV] ......... C=1, gamma=0.01, kernel=rbf, score=0.569, total=10.6min\n",
      "[CV] C=1, gamma=0.01, kernel=rbf .....................................\n",
      "[CV] ......... C=1, gamma=0.01, kernel=rbf, score=0.559, total=10.7min\n",
      "[CV] C=1, gamma=0.01, kernel=rbf .....................................\n",
      "[CV] ......... C=1, gamma=0.01, kernel=rbf, score=0.556, total=10.7min\n",
      "[CV] C=1, gamma=0.01, kernel=rbf .....................................\n",
      "[CV] ......... C=1, gamma=0.01, kernel=rbf, score=0.569, total=10.7min\n",
      "[CV] C=1, gamma=0.01, kernel=rbf .....................................\n",
      "[CV] ......... C=1, gamma=0.01, kernel=rbf, score=0.564, total=11.2min\n",
      "[CV] C=1, gamma=0.01, kernel=linear ..................................\n",
      "[CV] ...... C=1, gamma=0.01, kernel=linear, score=0.569, total=10.1min\n",
      "[CV] C=1, gamma=0.01, kernel=linear ..................................\n",
      "[CV] ...... C=1, gamma=0.01, kernel=linear, score=0.569, total=10.2min\n",
      "[CV] C=1, gamma=0.01, kernel=linear ..................................\n",
      "[CV] ...... C=1, gamma=0.01, kernel=linear, score=0.535, total=10.3min\n",
      "[CV] C=1, gamma=0.01, kernel=linear ..................................\n",
      "[CV] ...... C=1, gamma=0.01, kernel=linear, score=0.559, total=10.1min\n",
      "[CV] C=1, gamma=0.01, kernel=linear ..................................\n",
      "[CV] ...... C=1, gamma=0.01, kernel=linear, score=0.537, total=10.1min\n",
      "[CV] C=1, gamma=0.001, kernel=rbf ....................................\n",
      "[CV] ........ C=1, gamma=0.001, kernel=rbf, score=0.569, total=10.5min\n",
      "[CV] C=1, gamma=0.001, kernel=rbf ....................................\n",
      "[CV] ........ C=1, gamma=0.001, kernel=rbf, score=0.559, total=10.5min\n",
      "[CV] C=1, gamma=0.001, kernel=rbf ....................................\n",
      "[CV] ........ C=1, gamma=0.001, kernel=rbf, score=0.556, total=10.7min\n",
      "[CV] C=1, gamma=0.001, kernel=rbf ....................................\n",
      "[CV] ........ C=1, gamma=0.001, kernel=rbf, score=0.569, total=10.6min\n",
      "[CV] C=1, gamma=0.001, kernel=rbf ....................................\n",
      "[CV] ........ C=1, gamma=0.001, kernel=rbf, score=0.564, total=10.8min\n",
      "[CV] C=1, gamma=0.001, kernel=linear .................................\n",
      "[CV] ..... C=1, gamma=0.001, kernel=linear, score=0.569, total=10.2min\n",
      "[CV] C=1, gamma=0.001, kernel=linear .................................\n",
      "[CV] ..... C=1, gamma=0.001, kernel=linear, score=0.569, total=10.0min\n",
      "[CV] C=1, gamma=0.001, kernel=linear .................................\n",
      "[CV] ..... C=1, gamma=0.001, kernel=linear, score=0.535, total=10.0min\n",
      "[CV] C=1, gamma=0.001, kernel=linear .................................\n",
      "[CV] ..... C=1, gamma=0.001, kernel=linear, score=0.559, total=10.3min\n",
      "[CV] C=1, gamma=0.001, kernel=linear .................................\n",
      "[CV] ..... C=1, gamma=0.001, kernel=linear, score=0.537, total=10.4min\n"
     ]
    },
    {
     "name": "stderr",
     "output_type": "stream",
     "text": [
      "[Parallel(n_jobs=1)]: Done  80 out of  80 | elapsed: 940.8min finished\n"
     ]
    },
    {
     "data": {
      "text/plain": [
       "GridSearchCV(cv=5, estimator=SVC(),\n",
       "             param_grid={'C': [0.1, 1], 'gamma': [1, 0.1, 0.01, 0.001],\n",
       "                         'kernel': ['rbf', 'linear']},\n",
       "             verbose=3)"
      ]
     },
     "execution_count": 57,
     "metadata": {},
     "output_type": "execute_result"
    }
   ],
   "source": [
    "from sklearn.model_selection import GridSearchCV \n",
    "  \n",
    "# defining parameter range \n",
    "param_grid = {'C': [0.1, 1],  \n",
    "              'gamma': [1, 0.1, 0.01, 0.001], \n",
    "              'kernel': ['rbf', 'linear']}  \n",
    "  \n",
    "grid = GridSearchCV(SVC(), param_grid, refit = True, verbose = 3, cv = 5) \n",
    "  \n",
    "# fitting the model for grid search \n",
    "grid.fit(X_train, y_train) "
   ]
  },
  {
   "cell_type": "code",
   "execution_count": 58,
   "metadata": {},
   "outputs": [
    {
     "name": "stdout",
     "output_type": "stream",
     "text": [
      "{'C': 1, 'gamma': 1, 'kernel': 'rbf'}\n",
      "SVC(C=1, gamma=1)\n"
     ]
    }
   ],
   "source": [
    "# print best parameter after tuning \n",
    "print(grid.best_params_) \n",
    "  \n",
    "# print how our model looks after hyper-parameter tuning \n",
    "print(grid.best_estimator_) "
   ]
  },
  {
   "cell_type": "markdown",
   "metadata": {},
   "source": [
    "### Score Model"
   ]
  },
  {
   "cell_type": "code",
   "execution_count": 59,
   "metadata": {},
   "outputs": [
    {
     "name": "stdout",
     "output_type": "stream",
     "text": [
      "Model accuracy is:  0.5353218210361067\n"
     ]
    }
   ],
   "source": [
    "grid_predictions = grid.predict(X_test) \n",
    "  \n",
    "# calculate accuracy\n",
    "accuracy = accuracy_score(y_test, grid_predictions)\n",
    "print('Model accuracy is: ', accuracy)"
   ]
  }
 ],
 "metadata": {
  "kernelspec": {
   "display_name": "Python 3",
   "language": "python",
   "name": "python3"
  },
  "language_info": {
   "codemirror_mode": {
    "name": "ipython",
    "version": 3
   },
   "file_extension": ".py",
   "mimetype": "text/x-python",
   "name": "python",
   "nbconvert_exporter": "python",
   "pygments_lexer": "ipython3",
   "version": "3.8.3"
  }
 },
 "nbformat": 4,
 "nbformat_minor": 2
}
